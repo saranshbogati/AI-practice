{
 "cells": [
  {
   "cell_type": "markdown",
   "id": "cb9a1b6f-f5c8-48b0-a557-5f4dbd07568a",
   "metadata": {},
   "source": [
    "# Speech-to-Text and Text-to-Speech\n",
    "Integrated open-source and proprietary STT/TTS models to transcribe support calls and generate audio responses for multilingual or accessible use cases."
   ]
  },
  {
   "cell_type": "code",
   "execution_count": 1,
   "id": "c1ccaf30-457d-4508-99fb-93120672731a",
   "metadata": {},
   "outputs": [
    {
     "name": "stdout",
     "output_type": "stream",
     "text": [
      "Requirement already satisfied: transformers in /Users/saranshbogati/Desktop/Projects/AI/env/lib/python3.11/site-packages (4.52.4)\n",
      "Collecting torchaudio\n",
      "  Downloading torchaudio-2.7.1-cp311-cp311-macosx_11_0_arm64.whl.metadata (6.6 kB)\n",
      "Requirement already satisfied: filelock in /Users/saranshbogati/Desktop/Projects/AI/env/lib/python3.11/site-packages (from transformers) (3.18.0)\n",
      "Requirement already satisfied: huggingface-hub<1.0,>=0.30.0 in /Users/saranshbogati/Desktop/Projects/AI/env/lib/python3.11/site-packages (from transformers) (0.33.1)\n",
      "Requirement already satisfied: numpy>=1.17 in /Users/saranshbogati/Desktop/Projects/AI/env/lib/python3.11/site-packages (from transformers) (2.2.6)\n",
      "Requirement already satisfied: packaging>=20.0 in /Users/saranshbogati/Desktop/Projects/AI/env/lib/python3.11/site-packages (from transformers) (25.0)\n",
      "Requirement already satisfied: pyyaml>=5.1 in /Users/saranshbogati/Desktop/Projects/AI/env/lib/python3.11/site-packages (from transformers) (6.0.2)\n",
      "Requirement already satisfied: regex!=2019.12.17 in /Users/saranshbogati/Desktop/Projects/AI/env/lib/python3.11/site-packages (from transformers) (2024.11.6)\n",
      "Requirement already satisfied: requests in /Users/saranshbogati/Desktop/Projects/AI/env/lib/python3.11/site-packages (from transformers) (2.32.4)\n",
      "Requirement already satisfied: tokenizers<0.22,>=0.21 in /Users/saranshbogati/Desktop/Projects/AI/env/lib/python3.11/site-packages (from transformers) (0.21.2)\n",
      "Requirement already satisfied: safetensors>=0.4.3 in /Users/saranshbogati/Desktop/Projects/AI/env/lib/python3.11/site-packages (from transformers) (0.5.3)\n",
      "Requirement already satisfied: tqdm>=4.27 in /Users/saranshbogati/Desktop/Projects/AI/env/lib/python3.11/site-packages (from transformers) (4.67.1)\n",
      "Requirement already satisfied: fsspec>=2023.5.0 in /Users/saranshbogati/Desktop/Projects/AI/env/lib/python3.11/site-packages (from huggingface-hub<1.0,>=0.30.0->transformers) (2025.3.0)\n",
      "Requirement already satisfied: typing-extensions>=3.7.4.3 in /Users/saranshbogati/Desktop/Projects/AI/env/lib/python3.11/site-packages (from huggingface-hub<1.0,>=0.30.0->transformers) (4.14.0)\n",
      "Requirement already satisfied: hf-xet<2.0.0,>=1.1.2 in /Users/saranshbogati/Desktop/Projects/AI/env/lib/python3.11/site-packages (from huggingface-hub<1.0,>=0.30.0->transformers) (1.1.5)\n",
      "Collecting torch==2.7.1 (from torchaudio)\n",
      "  Using cached torch-2.7.1-cp311-none-macosx_11_0_arm64.whl.metadata (29 kB)\n",
      "Collecting sympy>=1.13.3 (from torch==2.7.1->torchaudio)\n",
      "  Using cached sympy-1.14.0-py3-none-any.whl.metadata (12 kB)\n",
      "Requirement already satisfied: networkx in /Users/saranshbogati/Desktop/Projects/AI/env/lib/python3.11/site-packages (from torch==2.7.1->torchaudio) (3.5)\n",
      "Requirement already satisfied: jinja2 in /Users/saranshbogati/Desktop/Projects/AI/env/lib/python3.11/site-packages (from torch==2.7.1->torchaudio) (3.1.6)\n",
      "Requirement already satisfied: mpmath<1.4,>=1.1.0 in /Users/saranshbogati/Desktop/Projects/AI/env/lib/python3.11/site-packages (from sympy>=1.13.3->torch==2.7.1->torchaudio) (1.3.0)\n",
      "Requirement already satisfied: MarkupSafe>=2.0 in /Users/saranshbogati/Desktop/Projects/AI/env/lib/python3.11/site-packages (from jinja2->torch==2.7.1->torchaudio) (3.0.2)\n",
      "Requirement already satisfied: charset_normalizer<4,>=2 in /Users/saranshbogati/Desktop/Projects/AI/env/lib/python3.11/site-packages (from requests->transformers) (3.4.2)\n",
      "Requirement already satisfied: idna<4,>=2.5 in /Users/saranshbogati/Desktop/Projects/AI/env/lib/python3.11/site-packages (from requests->transformers) (3.10)\n",
      "Requirement already satisfied: urllib3<3,>=1.21.1 in /Users/saranshbogati/Desktop/Projects/AI/env/lib/python3.11/site-packages (from requests->transformers) (2.5.0)\n",
      "Requirement already satisfied: certifi>=2017.4.17 in /Users/saranshbogati/Desktop/Projects/AI/env/lib/python3.11/site-packages (from requests->transformers) (2025.6.15)\n",
      "Downloading torchaudio-2.7.1-cp311-cp311-macosx_11_0_arm64.whl (1.8 MB)\n",
      "\u001b[2K   \u001b[38;2;114;156;31m━━━━━━━━━━━━━━━━━━━━━━━━━━━━━━━━━━━━━━━━\u001b[0m \u001b[32m1.8/1.8 MB\u001b[0m \u001b[31m1.0 MB/s\u001b[0m eta \u001b[36m0:00:00\u001b[0m MB/s\u001b[0m eta \u001b[36m0:00:01\u001b[0m:01\u001b[0m\n",
      "\u001b[?25hUsing cached torch-2.7.1-cp311-none-macosx_11_0_arm64.whl (68.6 MB)\n",
      "Using cached sympy-1.14.0-py3-none-any.whl (6.3 MB)\n",
      "Installing collected packages: sympy, torch, torchaudio\n",
      "\u001b[2K  Attempting uninstall: sympy\n",
      "\u001b[2K    Found existing installation: sympy 1.13.1\n",
      "\u001b[2K    Uninstalling sympy-1.13.1:\n",
      "\u001b[2K      Successfully uninstalled sympy-1.13.1━━━━━━━━━━━\u001b[0m \u001b[32m0/3\u001b[0m [sympy]\n",
      "\u001b[2K  Attempting uninstall: torch━━━━━━━━━━━━━━━━━━━━━━━━━\u001b[0m \u001b[32m0/3\u001b[0m [sympy]\n",
      "\u001b[2K    Found existing installation: torch 2.6.0━━━━━━\u001b[0m \u001b[32m0/3\u001b[0m [sympy]\n",
      "\u001b[2K    Uninstalling torch-2.6.0:━━━━━\u001b[0m\u001b[38;5;237m╺\u001b[0m\u001b[38;5;237m━━━━━━━━━━━━━━━━━━━━━━━━━━\u001b[0m \u001b[32m1/3\u001b[0m [torch]\n",
      "\u001b[2K      Successfully uninstalled torch-2.6.037m╺\u001b[0m\u001b[38;5;237m━━━━━━━━━━━━━━━━━━━━━━━━━━\u001b[0m \u001b[32m1/3\u001b[0m [torch]\n",
      "\u001b[2K   \u001b[38;2;114;156;31m━━━━━━━━━━━━━━━━━━━━━━━━━━━━━━━━━━━━━━━━\u001b[0m \u001b[32m3/3\u001b[0m [torchaudio]━━━━━━━\u001b[0m \u001b[32m2/3\u001b[0m [torchaudio]\n",
      "\u001b[1A\u001b[2KSuccessfully installed sympy-1.14.0 torch-2.7.1 torchaudio-2.7.1\n"
     ]
    }
   ],
   "source": [
    "!pip install transformers torchaudio"
   ]
  },
  {
   "cell_type": "code",
   "execution_count": 4,
   "id": "ac730ade-ddc7-4bcf-8aec-43a964f0bd88",
   "metadata": {},
   "outputs": [
    {
     "name": "stderr",
     "output_type": "stream",
     "text": [
      "Device set to use mps:0\n",
      "/Users/saranshbogati/Desktop/Projects/AI/env/lib/python3.11/site-packages/transformers/models/whisper/generation_whisper.py:573: FutureWarning: The input name `inputs` is deprecated. Please make sure to use `input_features` instead.\n",
      "  warnings.warn(\n",
      "Due to a bug fix in https://github.com/huggingface/transformers/pull/28687 transcription using a multilingual Whisper will default to language detection followed by transcription instead of translation to English.This might be a breaking change for your use case. If you want to instead always translate your audio to English, make sure to pass `language='en'`.\n"
     ]
    },
    {
     "name": "stdout",
     "output_type": "stream",
     "text": [
      "{'text': ' The stale smell of old beer lingers. It takes heat to bring out the odor. A cold dip restores health and zest. A salt pickle tastes fine with ham. Tacos al pastor are my favorite. A zestful food is the hot cross bun.'}\n"
     ]
    }
   ],
   "source": [
    "from transformers import pipeline\n",
    "\n",
    "pipe = pipeline(\"automatic-speech-recognition\", model=\"openai/whisper-base\")\n",
    "\n",
    "result = pipe(\"../data/harvard.wav\")\n",
    "print(result)"
   ]
  }
 ],
 "metadata": {
  "kernelspec": {
   "display_name": "ai-env",
   "language": "python",
   "name": "ai-env"
  },
  "language_info": {
   "codemirror_mode": {
    "name": "ipython",
    "version": 3
   },
   "file_extension": ".py",
   "mimetype": "text/x-python",
   "name": "python",
   "nbconvert_exporter": "python",
   "pygments_lexer": "ipython3",
   "version": "3.11.5"
  }
 },
 "nbformat": 4,
 "nbformat_minor": 5
}
