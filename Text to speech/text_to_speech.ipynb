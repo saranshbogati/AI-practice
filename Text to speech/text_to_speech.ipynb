{
 "cells": [
  {
   "cell_type": "markdown",
   "id": "777b8b7b-e113-412d-b96f-27ee6ac9c647",
   "metadata": {},
   "source": [
    "# Text to speech"
   ]
  },
  {
   "cell_type": "code",
   "execution_count": 4,
   "id": "293801d3-a2c0-4c32-a167-831212dd69fd",
   "metadata": {},
   "outputs": [],
   "source": [
    "from transformers import AutoProcessor, BarkModel\n",
    "import torch\n",
    "import scipy"
   ]
  },
  {
   "cell_type": "code",
   "execution_count": 10,
   "id": "631436a5-1252-4eff-8aa6-7c13ff650826",
   "metadata": {},
   "outputs": [
    {
     "name": "stderr",
     "output_type": "stream",
     "text": [
      "The attention mask and the pad token id were not set. As a consequence, you may observe unexpected behavior. Please pass your input's `attention_mask` to obtain reliable results.\n",
      "Setting `pad_token_id` to `eos_token_id`:10000 for open-end generation.\n"
     ]
    }
   ],
   "source": [
    "from transformers import AutoProcessor, AutoModel\n",
    "import scipy\n",
    "\n",
    "processor = AutoProcessor.from_pretrained(\"suno/bark-small\")\n",
    "model = AutoModel.from_pretrained(\"suno/bark-small\").to(\"cuda\" if torch.cuda.is_available() else \"cpu\")\n",
    "text = \"The stale smell of old beer lingers. It takes heat to bring out the odor. A cold dip restores health and zest. A salt pickle tastes fine with ham. Tacos al pastor are my favorite. A zestful food is the hot cross bun.\"\n",
    "\n",
    "inputs = processor(\n",
    "    text=text,\n",
    "    return_tensors=\"pt\",\n",
    "    return_attention_mask=True,  \n",
    "    truncation=True           \n",
    ").to(model.device)\n",
    "\n",
    "with torch.no_grad():\n",
    "    audio_array = model.generate(**inputs)\n",
    "\n",
    "audio_array = audio_array.cpu().numpy().squeeze()\n",
    "sample_rate = model.generation_config.sample_rate\n",
    "scipy.io.wavfile.write(\"proper_output.wav\", rate=sample_rate, data=audio_array)\n",
    "\n",
    "print(\"Audio generated\")"
   ]
  }
 ],
 "metadata": {
  "kernelspec": {
   "display_name": "ai-env",
   "language": "python",
   "name": "ai-env"
  },
  "language_info": {
   "codemirror_mode": {
    "name": "ipython",
    "version": 3
   },
   "file_extension": ".py",
   "mimetype": "text/x-python",
   "name": "python",
   "nbconvert_exporter": "python",
   "pygments_lexer": "ipython3",
   "version": "3.11.5"
  }
 },
 "nbformat": 4,
 "nbformat_minor": 5
}
