{
 "cells": [
  {
   "cell_type": "markdown",
   "id": "a5a338a5-5464-4210-bc74-f525361cbe4e",
   "metadata": {},
   "source": [
    "# Information Extraction from Unstructured Data\n",
    "Built an LLM-based system to process large volumes of litigation files—extracting key information, organizing content, and enabling fast search, filtering, and review."
   ]
  },
  {
   "cell_type": "code",
   "execution_count": 1,
   "id": "67ffda63-2594-4cc9-8cc2-8a727f077350",
   "metadata": {},
   "outputs": [
    {
     "name": "stdout",
     "output_type": "stream",
     "text": [
      "Requirement already satisfied: transformers in /Users/saranshbogati/Desktop/Projects/AI/env/lib/python3.11/site-packages (4.52.4)\n",
      "Requirement already satisfied: PyPDF2 in /Users/saranshbogati/Desktop/Projects/AI/env/lib/python3.11/site-packages (3.0.1)\n",
      "Requirement already satisfied: filelock in /Users/saranshbogati/Desktop/Projects/AI/env/lib/python3.11/site-packages (from transformers) (3.18.0)\n",
      "Requirement already satisfied: huggingface-hub<1.0,>=0.30.0 in /Users/saranshbogati/Desktop/Projects/AI/env/lib/python3.11/site-packages (from transformers) (0.33.1)\n",
      "Requirement already satisfied: numpy>=1.17 in /Users/saranshbogati/Desktop/Projects/AI/env/lib/python3.11/site-packages (from transformers) (2.2.6)\n",
      "Requirement already satisfied: packaging>=20.0 in /Users/saranshbogati/Desktop/Projects/AI/env/lib/python3.11/site-packages (from transformers) (25.0)\n",
      "Requirement already satisfied: pyyaml>=5.1 in /Users/saranshbogati/Desktop/Projects/AI/env/lib/python3.11/site-packages (from transformers) (6.0.2)\n",
      "Requirement already satisfied: regex!=2019.12.17 in /Users/saranshbogati/Desktop/Projects/AI/env/lib/python3.11/site-packages (from transformers) (2024.11.6)\n",
      "Requirement already satisfied: requests in /Users/saranshbogati/Desktop/Projects/AI/env/lib/python3.11/site-packages (from transformers) (2.32.4)\n",
      "Requirement already satisfied: tokenizers<0.22,>=0.21 in /Users/saranshbogati/Desktop/Projects/AI/env/lib/python3.11/site-packages (from transformers) (0.21.2)\n",
      "Requirement already satisfied: safetensors>=0.4.3 in /Users/saranshbogati/Desktop/Projects/AI/env/lib/python3.11/site-packages (from transformers) (0.5.3)\n",
      "Requirement already satisfied: tqdm>=4.27 in /Users/saranshbogati/Desktop/Projects/AI/env/lib/python3.11/site-packages (from transformers) (4.67.1)\n",
      "Requirement already satisfied: fsspec>=2023.5.0 in /Users/saranshbogati/Desktop/Projects/AI/env/lib/python3.11/site-packages (from huggingface-hub<1.0,>=0.30.0->transformers) (2025.3.0)\n",
      "Requirement already satisfied: typing-extensions>=3.7.4.3 in /Users/saranshbogati/Desktop/Projects/AI/env/lib/python3.11/site-packages (from huggingface-hub<1.0,>=0.30.0->transformers) (4.14.0)\n",
      "Requirement already satisfied: hf-xet<2.0.0,>=1.1.2 in /Users/saranshbogati/Desktop/Projects/AI/env/lib/python3.11/site-packages (from huggingface-hub<1.0,>=0.30.0->transformers) (1.1.5)\n",
      "Requirement already satisfied: charset_normalizer<4,>=2 in /Users/saranshbogati/Desktop/Projects/AI/env/lib/python3.11/site-packages (from requests->transformers) (3.4.2)\n",
      "Requirement already satisfied: idna<4,>=2.5 in /Users/saranshbogati/Desktop/Projects/AI/env/lib/python3.11/site-packages (from requests->transformers) (3.10)\n",
      "Requirement already satisfied: urllib3<3,>=1.21.1 in /Users/saranshbogati/Desktop/Projects/AI/env/lib/python3.11/site-packages (from requests->transformers) (2.5.0)\n",
      "Requirement already satisfied: certifi>=2017.4.17 in /Users/saranshbogati/Desktop/Projects/AI/env/lib/python3.11/site-packages (from requests->transformers) (2025.6.15)\n"
     ]
    },
    {
     "name": "stderr",
     "output_type": "stream",
     "text": [
      "/Users/saranshbogati/Desktop/Projects/AI/env/lib/python3.11/site-packages/tqdm/auto.py:21: TqdmWarning: IProgress not found. Please update jupyter and ipywidgets. See https://ipywidgets.readthedocs.io/en/stable/user_install.html\n",
      "  from .autonotebook import tqdm as notebook_tqdm\n"
     ]
    }
   ],
   "source": [
    "!pip install transformers PyPDF2\n",
    "\n",
    "from transformers import pipeline\n",
    "from pathlib import Path\n",
    "import json\n",
    "import time\n",
    "from PyPDF2 import PdfReader\n",
    "import pandas as pd"
   ]
  },
  {
   "cell_type": "code",
   "execution_count": 3,
   "id": "0421049f-36a7-414c-8f77-a398a24a17a7",
   "metadata": {},
   "outputs": [],
   "source": [
    "pdf_dir = Path(\"legal_processing/pdfs\")\n",
    "result_dir = Path(\"legal_processing/results\")\n",
    "result_dir.mkdir(parents=True, exist_ok=True)"
   ]
  },
  {
   "cell_type": "code",
   "execution_count": 5,
   "id": "43dfaea1-190b-4936-8dc9-b98b7d02f5f8",
   "metadata": {},
   "outputs": [
    {
     "name": "stderr",
     "output_type": "stream",
     "text": [
      "Device set to use mps:0\n"
     ]
    }
   ],
   "source": [
    "qa_pipeline = pipeline(\"question-answering\", model=\"deepset/roberta-base-squad2\")"
   ]
  },
  {
   "cell_type": "code",
   "execution_count": 7,
   "id": "2126f54e-ac52-4e98-b60f-58472b557edc",
   "metadata": {},
   "outputs": [],
   "source": [
    "extraction_questions = {\n",
    "    \"case_number\": \"What is the case number or docket number?\",\n",
    "    \"parties\": \"Who are the parties involved in this case?\",\n",
    "    \"court\": \"Which court is handling this case?\",\n",
    "    \"date\": \"What is the date of the ruling or decision?\",\n",
    "    \"summary\": \"What is this case about? Give a brief summary.\",\n",
    "}"
   ]
  },
  {
   "cell_type": "code",
   "execution_count": 11,
   "id": "3d1b3d7e-6b1e-49f1-bb59-96f6300f1cea",
   "metadata": {},
   "outputs": [],
   "source": [
    "def get_full_text(pdf_path):\n",
    "    reader = PdfReader(pdf_path)\n",
    "    full_text = \"\"\n",
    "    for page in reader.pages:\n",
    "        full_text += page.extract_text() + \"\\n\"\n",
    "    return full_text\n",
    "\n",
    "def extract_info(text):\n",
    "    extracted = {}\n",
    "    for key, question in extraction_questions.items():\n",
    "        result = qa_pipeline(question=question, context=text)\n",
    "        extracted[key] = result[\"answer\"]\n",
    "    return extracted\n",
    "\n",
    "def process_pdf(pdf_path):\n",
    "    try:\n",
    "        print(f\"Processing: {pdf_path.name}\")\n",
    "        text = get_full_text(str(pdf_path))     \n",
    "        result = extract_info(text)      \n",
    "\n",
    "        output_file = result_dir / f\"{pdf_path.stem}.json\"\n",
    "        with open(output_file, \"w\", encoding=\"utf-8\") as f:\n",
    "            json.dump(result, f, indent=2)\n",
    "        return (pdf_path.name, \"Success\")\n",
    "    except Exception as e:\n",
    "        return (pdf_path.name, f\"Failed: {e}\")"
   ]
  },
  {
   "cell_type": "code",
   "execution_count": 12,
   "id": "41fbbe48-600c-433a-a667-6b744cb7221f",
   "metadata": {},
   "outputs": [
    {
     "name": "stdout",
     "output_type": "stream",
     "text": [
      "Processing: case_1.pdf\n",
      "Processing: case_3.pdf\n",
      "Processing: case_2.pdf\n",
      "Processing: case_6.pdf\n",
      "Processing: case_7.pdf\n",
      "Processing: case_5.pdf\n",
      "Processing: case_4.pdf\n",
      "Processing: case_9.pdf\n",
      "Processing: case_8.pdf\n",
      "Processing: case_10.pdf\n",
      "Done. Processed 10 files in 92.41 seconds.\n"
     ]
    }
   ],
   "source": [
    "start = time.time()\n",
    "all_results = []\n",
    "\n",
    "for pdf_path in pdf_dir.glob(\"*.pdf\"):\n",
    "    print(f\"Processing: {pdf_path.name}\")\n",
    "    text = get_full_text(str(pdf_path))\n",
    "    result = extract_info(text)\n",
    "    result[\"file\"] = pdf_path.name\n",
    "    \n",
    "    # Save JSON per file\n",
    "    output_file = result_dir / f\"{pdf_path.stem}.json\"\n",
    "    with open(output_file, \"w\", encoding=\"utf-8\") as f:\n",
    "        json.dump(result, f, indent=2)\n",
    "    \n",
    "    all_results.append(result)\n",
    "\n",
    "print(f\"Done. Processed {len(all_results)} files in {round(time.time() - start, 2)} seconds.\")\n"
   ]
  },
  {
   "cell_type": "code",
   "execution_count": 14,
   "id": "a6d75c7b-93ad-4c6f-82d6-eedffbc426c8",
   "metadata": {},
   "outputs": [
    {
     "name": "stdout",
     "output_type": "stream",
     "text": [
      "\n",
      " File: case_5.json\n",
      "{\n",
      "  \"case_number\": \"8\\u20139\",\n",
      "  \"parties\": \"management-\\nlevel employees\",\n",
      "  \"court\": \"Fifth Circuit\",\n",
      "  \"date\": \"June 2, 2025\",\n",
      "  \"summary\": \"acts of discrimination\",\n",
      "  \"file\": \"case_5.pdf\"\n",
      "}\n",
      "\n",
      " File: case_9.json\n",
      "{\n",
      "  \"case_number\": \"443\",\n",
      "  \"parties\": \"Sherbert  and Yoder\",\n",
      "  \"court\": \"R. Nelson\",\n",
      "  \"date\": \"May 27, 2025\",\n",
      "  \"summary\": \"a \\nplan to build a road near religious sites\",\n",
      "  \"file\": \"case_9.pdf\"\n",
      "}\n",
      "\n",
      " File: case_8.json\n",
      "{\n",
      "  \"case_number\": \"433\\u2013434\",\n",
      "  \"parties\": \"the Government\",\n",
      "  \"court\": \"Distri ct Court\",\n",
      "  \"date\": \"January 20, 2025\",\n",
      "  \"summary\": \"the Government has plainly failed to satisfy\\nits burden of demonstrating irreparable harm\",\n",
      "  \"file\": \"case_8.pdf\"\n",
      "}\n",
      "\n",
      " File: case_4.json\n",
      "{\n",
      "  \"case_number\": \"563 P. 3d, at 1053\",\n",
      "  \"parties\": \"four current or former Seattle police officers\",\n",
      "  \"court\": \"Washington Supreme Court\",\n",
      "  \"date\": \"June 4, 2025\",\n",
      "  \"summary\": \"disclosure at issue in this  case is consistent with the \\nFirst Amendment\",\n",
      "  \"file\": \"case_4.pdf\"\n",
      "}\n",
      "\n",
      " File: case_3.json\n",
      "{\n",
      "  \"case_number\": \"1:25\\u2013\\ncv\\u2013596\",\n",
      "  \"parties\": \"two labor unions and a \\ngrassroots advocacy organization\",\n",
      "  \"court\": \"United States Court of Appeals for the Fourth Circuit\",\n",
      "  \"date\": \"April 17\",\n",
      "  \"summary\": \"District Court\\u2019s pre liminary injunction\",\n",
      "  \"file\": \"case_3.pdf\"\n",
      "}\n",
      "\n",
      " File: case_2.json\n",
      "{\n",
      "  \"case_number\": \"605 U. S. ____ (2025\",\n",
      "  \"parties\": \"Ayers\\u2019s father and a next-door neighbor\",\n",
      "  \"court\": \"Sixth Circuit\",\n",
      "  \"date\": \"June 6, 2025\",\n",
      "  \"summary\": \"605 U. S. ____\",\n",
      "  \"file\": \"case_2.pdf\"\n",
      "}\n",
      "\n",
      " File: case_10.json\n",
      "{\n",
      "  \"case_number\": \"38\",\n",
      "  \"parties\": \"parents and natural guardians\",\n",
      "  \"court\": \"The District Court\",\n",
      "  \"date\": \"May 27, 2025\",\n",
      "  \"summary\": \"Vietnam\",\n",
      "  \"file\": \"case_10.pdf\"\n",
      "}\n",
      "\n",
      " File: case_1.json\n",
      "{\n",
      "  \"case_number\": \"non-detained docket\",\n",
      "  \"parties\": \"The United States\",\n",
      "  \"court\": \"District Court\",\n",
      "  \"date\": \"May 7\",\n",
      "  \"summary\": \"third country removal\",\n",
      "  \"file\": \"case_1.pdf\"\n",
      "}\n",
      "\n",
      " File: case_7.json\n",
      "{\n",
      "  \"case_number\": \"con-\\nstitutionality\",\n",
      "  \"parties\": \"Americans\",\n",
      "  \"court\": \"The Fourth Circuit\",\n",
      "  \"date\": \"June 2, 2025\",\n",
      "  \"summary\": \"Maryland\\u2019s ban on the \\nAR\\u201315\",\n",
      "  \"file\": \"case_7.pdf\"\n",
      "}\n",
      "\n",
      " File: case_6.json\n",
      "{\n",
      "  \"case_number\": \"con-\\nstitutionality\",\n",
      "  \"parties\": \"Americans\",\n",
      "  \"court\": \"The Fourth Circuit\",\n",
      "  \"date\": \"June 2, 2025\",\n",
      "  \"summary\": \"Maryland\\u2019s ban on the \\nAR\\u201315\",\n",
      "  \"file\": \"case_6.pdf\"\n",
      "}\n"
     ]
    }
   ],
   "source": [
    "import json\n",
    "from pathlib import Path\n",
    "\n",
    "result_dir = Path(\"legal_processing/results\")\n",
    "\n",
    "for json_file in result_dir.glob(\"*.json\"):\n",
    "    with open(json_file, \"r\", encoding=\"utf-8\") as f:\n",
    "        data = json.load(f)\n",
    "        print(f\"\\n File: {json_file.name}\")\n",
    "        print(json.dumps(data, indent=2))"
   ]
  }
 ],
 "metadata": {
  "kernelspec": {
   "display_name": "ai-env",
   "language": "python",
   "name": "ai-env"
  },
  "language_info": {
   "codemirror_mode": {
    "name": "ipython",
    "version": 3
   },
   "file_extension": ".py",
   "mimetype": "text/x-python",
   "name": "python",
   "nbconvert_exporter": "python",
   "pygments_lexer": "ipython3",
   "version": "3.11.5"
  }
 },
 "nbformat": 4,
 "nbformat_minor": 5
}
