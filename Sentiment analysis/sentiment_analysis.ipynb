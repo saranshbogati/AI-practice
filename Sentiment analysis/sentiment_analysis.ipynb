{
 "cells": [
  {
   "cell_type": "markdown",
   "id": "0a4672c8-9f4a-46a0-a8d1-1c79a2c93ee9",
   "metadata": {},
   "source": [
    "# Sentiment Analysis on Customer Conversations\n",
    ">Applied NLP models to classify customer survey comments from medical facilities as positive, negative, or neutral—helping surface insights for service quality evaluation and improvement"
   ]
  },
  {
   "cell_type": "code",
   "execution_count": 1,
   "id": "423c0ca2-07c2-4a8d-860b-b6c3d234e1fb",
   "metadata": {},
   "outputs": [
    {
     "name": "stdout",
     "output_type": "stream",
     "text": [
      "Requirement already satisfied: transformers[torch] in /Users/saranshbogati/Desktop/Projects/AI/env/lib/python3.11/site-packages (4.52.4)\n",
      "Requirement already satisfied: filelock in /Users/saranshbogati/Desktop/Projects/AI/env/lib/python3.11/site-packages (from transformers[torch]) (3.18.0)\n",
      "Requirement already satisfied: huggingface-hub<1.0,>=0.30.0 in /Users/saranshbogati/Desktop/Projects/AI/env/lib/python3.11/site-packages (from transformers[torch]) (0.33.1)\n",
      "Requirement already satisfied: numpy>=1.17 in /Users/saranshbogati/Desktop/Projects/AI/env/lib/python3.11/site-packages (from transformers[torch]) (2.2.6)\n",
      "Requirement already satisfied: packaging>=20.0 in /Users/saranshbogati/Desktop/Projects/AI/env/lib/python3.11/site-packages (from transformers[torch]) (25.0)\n",
      "Requirement already satisfied: pyyaml>=5.1 in /Users/saranshbogati/Desktop/Projects/AI/env/lib/python3.11/site-packages (from transformers[torch]) (6.0.2)\n",
      "Requirement already satisfied: regex!=2019.12.17 in /Users/saranshbogati/Desktop/Projects/AI/env/lib/python3.11/site-packages (from transformers[torch]) (2024.11.6)\n",
      "Requirement already satisfied: requests in /Users/saranshbogati/Desktop/Projects/AI/env/lib/python3.11/site-packages (from transformers[torch]) (2.32.4)\n",
      "Requirement already satisfied: tokenizers<0.22,>=0.21 in /Users/saranshbogati/Desktop/Projects/AI/env/lib/python3.11/site-packages (from transformers[torch]) (0.21.2)\n",
      "Requirement already satisfied: safetensors>=0.4.3 in /Users/saranshbogati/Desktop/Projects/AI/env/lib/python3.11/site-packages (from transformers[torch]) (0.5.3)\n",
      "Requirement already satisfied: tqdm>=4.27 in /Users/saranshbogati/Desktop/Projects/AI/env/lib/python3.11/site-packages (from transformers[torch]) (4.67.1)\n",
      "Requirement already satisfied: torch<2.7,>=2.1 in /Users/saranshbogati/Desktop/Projects/AI/env/lib/python3.11/site-packages (from transformers[torch]) (2.6.0)\n",
      "Requirement already satisfied: accelerate>=0.26.0 in /Users/saranshbogati/Desktop/Projects/AI/env/lib/python3.11/site-packages (from transformers[torch]) (1.8.1)\n",
      "Requirement already satisfied: fsspec>=2023.5.0 in /Users/saranshbogati/Desktop/Projects/AI/env/lib/python3.11/site-packages (from huggingface-hub<1.0,>=0.30.0->transformers[torch]) (2025.3.0)\n",
      "Requirement already satisfied: typing-extensions>=3.7.4.3 in /Users/saranshbogati/Desktop/Projects/AI/env/lib/python3.11/site-packages (from huggingface-hub<1.0,>=0.30.0->transformers[torch]) (4.14.0)\n",
      "Requirement already satisfied: hf-xet<2.0.0,>=1.1.2 in /Users/saranshbogati/Desktop/Projects/AI/env/lib/python3.11/site-packages (from huggingface-hub<1.0,>=0.30.0->transformers[torch]) (1.1.5)\n",
      "Requirement already satisfied: networkx in /Users/saranshbogati/Desktop/Projects/AI/env/lib/python3.11/site-packages (from torch<2.7,>=2.1->transformers[torch]) (3.5)\n",
      "Requirement already satisfied: jinja2 in /Users/saranshbogati/Desktop/Projects/AI/env/lib/python3.11/site-packages (from torch<2.7,>=2.1->transformers[torch]) (3.1.6)\n",
      "Requirement already satisfied: sympy==1.13.1 in /Users/saranshbogati/Desktop/Projects/AI/env/lib/python3.11/site-packages (from torch<2.7,>=2.1->transformers[torch]) (1.13.1)\n",
      "Requirement already satisfied: mpmath<1.4,>=1.1.0 in /Users/saranshbogati/Desktop/Projects/AI/env/lib/python3.11/site-packages (from sympy==1.13.1->torch<2.7,>=2.1->transformers[torch]) (1.3.0)\n",
      "Requirement already satisfied: psutil in /Users/saranshbogati/Desktop/Projects/AI/env/lib/python3.11/site-packages (from accelerate>=0.26.0->transformers[torch]) (7.0.0)\n",
      "Requirement already satisfied: MarkupSafe>=2.0 in /Users/saranshbogati/Desktop/Projects/AI/env/lib/python3.11/site-packages (from jinja2->torch<2.7,>=2.1->transformers[torch]) (3.0.2)\n",
      "Requirement already satisfied: charset_normalizer<4,>=2 in /Users/saranshbogati/Desktop/Projects/AI/env/lib/python3.11/site-packages (from requests->transformers[torch]) (3.4.2)\n",
      "Requirement already satisfied: idna<4,>=2.5 in /Users/saranshbogati/Desktop/Projects/AI/env/lib/python3.11/site-packages (from requests->transformers[torch]) (3.10)\n",
      "Requirement already satisfied: urllib3<3,>=1.21.1 in /Users/saranshbogati/Desktop/Projects/AI/env/lib/python3.11/site-packages (from requests->transformers[torch]) (2.5.0)\n",
      "Requirement already satisfied: certifi>=2017.4.17 in /Users/saranshbogati/Desktop/Projects/AI/env/lib/python3.11/site-packages (from requests->transformers[torch]) (2025.6.15)\n"
     ]
    }
   ],
   "source": [
    "!pip install \"transformers[torch]\"\n"
   ]
  },
  {
   "cell_type": "code",
   "execution_count": 2,
   "id": "283766a4-a47f-4565-a60a-993f108d4e7c",
   "metadata": {},
   "outputs": [
    {
     "name": "stderr",
     "output_type": "stream",
     "text": [
      "/Users/saranshbogati/Desktop/Projects/AI/env/lib/python3.11/site-packages/tqdm/auto.py:21: TqdmWarning: IProgress not found. Please update jupyter and ipywidgets. See https://ipywidgets.readthedocs.io/en/stable/user_install.html\n",
      "  from .autonotebook import tqdm as notebook_tqdm\n"
     ]
    }
   ],
   "source": [
    "import pandas as pd\n",
    "from sklearn.metrics import (\n",
    "    classification_report,\n",
    "    accuracy_score,\n",
    "    precision_recall_fscore_support,\n",
    ")\n",
    "from sklearn.model_selection import train_test_split\n",
    "from transformers import pipeline\n",
    "from datasets import Dataset\n",
    "from transformers import (\n",
    "    AutoTokenizer,\n",
    "    AutoModelForSequenceClassification,\n",
    "    Trainer,\n",
    "    TrainingArguments,\n",
    ")"
   ]
  },
  {
   "cell_type": "code",
   "execution_count": 3,
   "id": "6a5780aa-e7f1-4e1a-be24-e8a50933598f",
   "metadata": {},
   "outputs": [],
   "source": [
    "def get_clean_hospital_data():\n",
    "    df = pd.read_csv(\"../data/hospital.csv\")\n",
    "    # preprocess\n",
    "    df.drop(columns=[\"Unnamed: 3\"], errors=\"ignore\")\n",
    "    df.dropna(subset=[\"Feedback\", \"Sentiment Label\"])\n",
    "\n",
    "    return df\n",
    "    \n",
    "df = get_clean_hospital_data()"
   ]
  },
  {
   "cell_type": "code",
   "execution_count": 4,
   "id": "8d8c918e-6d37-46d6-96cc-2fb1ed9a0def",
   "metadata": {},
   "outputs": [
    {
     "name": "stderr",
     "output_type": "stream",
     "text": [
      "No model was supplied, defaulted to distilbert/distilbert-base-uncased-finetuned-sst-2-english and revision 714eb0f (https://huggingface.co/distilbert/distilbert-base-uncased-finetuned-sst-2-english).\n",
      "Using a pipeline without specifying a model name and revision in production is not recommended.\n",
      "Device set to use mps:0\n"
     ]
    },
    {
     "name": "stdout",
     "output_type": "stream",
     "text": [
      "Baseline on pretrained model\n",
      "\n",
      "Accuracy:  0.8463855421686747\n",
      "Classification report\n",
      "               precision    recall  f1-score   support\n",
      "\n",
      "           0       0.65      0.93      0.76       268\n",
      "           1       0.97      0.82      0.89       728\n",
      "\n",
      "    accuracy                           0.85       996\n",
      "   macro avg       0.81      0.87      0.83       996\n",
      "weighted avg       0.88      0.85      0.85       996\n",
      "\n"
     ]
    }
   ],
   "source": [
    "def process_baseline():\n",
    "    sentiment_pipeline = pipeline(\"sentiment-analysis\")\n",
    "    results = sentiment_pipeline(df[\"Feedback\"].tolist())\n",
    "    # print(results)\n",
    "\n",
    "    df[\"predicted_label\"] = [1 if r[\"label\"] == \"POSITIVE\" else 0 for r in results]\n",
    "    df[\"confidence\"] = [r[\"score\"] for r in results]\n",
    "\n",
    "    print(\"Baseline on pretrained model\\n\")\n",
    "    print(\"Accuracy: \", accuracy_score(df[\"Sentiment Label\"], df[\"predicted_label\"]))\n",
    "    print(\n",
    "        \"Classification report\\n\",\n",
    "        classification_report(df[\"Sentiment Label\"], df[\"predicted_label\"]),\n",
    "    )\n",
    "process_baseline()"
   ]
  },
  {
   "cell_type": "code",
   "execution_count": 5,
   "id": "e816eb53-f4eb-4c83-825f-8843b810d92f",
   "metadata": {},
   "outputs": [
    {
     "name": "stderr",
     "output_type": "stream",
     "text": [
      "Some weights of DistilBertForSequenceClassification were not initialized from the model checkpoint at distilbert-base-uncased and are newly initialized: ['classifier.bias', 'classifier.weight', 'pre_classifier.bias', 'pre_classifier.weight']\n",
      "You should probably TRAIN this model on a down-stream task to be able to use it for predictions and inference.\n"
     ]
    }
   ],
   "source": [
    "df = df.rename(columns={\"Feedback\": \"text\", \"Sentiment Label\": \"label\"})\n",
    "train_texts, val_texts, train_labels, val_labels = train_test_split(\n",
    "    df[\"text\"].tolist(),\n",
    "    df[\"label\"].tolist(),\n",
    "    test_size=0.2,\n",
    "    random_state=42,\n",
    "    stratify=df[\"label\"],\n",
    ")\n",
    "\n",
    "train_dataset = Dataset.from_dict({\"text\": train_texts, \"label\": train_labels})\n",
    "val_dataset = Dataset.from_dict({\"text\": val_texts, \"label\": val_labels})\n",
    "\n",
    "model_name = \"distilbert-base-uncased\"\n",
    "tokenizer = AutoTokenizer.from_pretrained(model_name)\n",
    "model = AutoModelForSequenceClassification.from_pretrained(model_name, num_labels=2)"
   ]
  },
  {
   "cell_type": "code",
   "execution_count": 6,
   "id": "08cb8e89-85f7-40bd-a6d9-df9a00a1c02e",
   "metadata": {},
   "outputs": [],
   "source": [
    "def tokenize(batch):\n",
    "    return tokenizer(batch[\"text\"], padding=True, truncation=True, max_length=128)\n",
    "\n",
    "def compute_metrics(pred):\n",
    "    labels = pred.label_ids\n",
    "    preds = pred.predictions.argmax(-1)\n",
    "    precision, recall, f1, _ = precision_recall_fscore_support(\n",
    "        labels, preds, average=\"binary\"\n",
    "    )\n",
    "    acc = accuracy_score(labels, preds)\n",
    "    return {\"accuracy\": acc, \"precision\": precision, \"recall\": recall, \"f1\": f1}"
   ]
  },
  {
   "cell_type": "code",
   "execution_count": 8,
   "id": "127122c2-afa1-4d1e-9851-2e739f10416b",
   "metadata": {},
   "outputs": [
    {
     "name": "stderr",
     "output_type": "stream",
     "text": [
      "Map: 100%|██████████████████████████████████████████████████████████████████████████████████| 796/796 [00:00<00:00, 6921.51 examples/s]\n",
      "Map: 100%|█████████████████████████████████████████████████████████████████████████████████| 200/200 [00:00<00:00, 10588.74 examples/s]\n"
     ]
    }
   ],
   "source": [
    "train_dataset = train_dataset.map(tokenize, batched=True)\n",
    "val_dataset = val_dataset.map(tokenize, batched=True)\n",
    "\n",
    "train_dataset.set_format(\"torch\", columns=[\"input_ids\", \"attention_mask\", \"label\"])\n",
    "val_dataset.set_format(\"torch\", columns=[\"input_ids\", \"attention_mask\", \"label\"])\n",
    "\n",
    "training_args = TrainingArguments(\n",
    "    output_dir=\"./results\",\n",
    "    eval_strategy=\"epoch\",\n",
    "    save_strategy=\"epoch\",\n",
    "    learning_rate=2e-5,\n",
    "    per_device_train_batch_size=16,\n",
    "    per_device_eval_batch_size=32,\n",
    "    num_train_epochs=4,\n",
    "    weight_decay=0.01,\n",
    "    load_best_model_at_end=True,\n",
    "    metric_for_best_model=\"accuracy\",\n",
    "    save_total_limit=2,\n",
    "    seed=42,\n",
    ")\n",
    "\n",
    "trainer = Trainer(\n",
    "    model=model,\n",
    "    args=training_args,\n",
    "    train_dataset=train_dataset,\n",
    "    eval_dataset=val_dataset,\n",
    "    compute_metrics=compute_metrics,\n",
    ")"
   ]
  },
  {
   "cell_type": "code",
   "execution_count": 10,
   "id": "c077ff98-8258-4b4f-b11b-ecff5c7d0758",
   "metadata": {},
   "outputs": [
    {
     "data": {
      "text/html": [
       "\n",
       "    <div>\n",
       "      \n",
       "      <progress value='200' max='200' style='width:300px; height:20px; vertical-align: middle;'></progress>\n",
       "      [200/200 04:22, Epoch 4/4]\n",
       "    </div>\n",
       "    <table border=\"1\" class=\"dataframe\">\n",
       "  <thead>\n",
       " <tr style=\"text-align: left;\">\n",
       "      <th>Epoch</th>\n",
       "      <th>Training Loss</th>\n",
       "      <th>Validation Loss</th>\n",
       "      <th>Accuracy</th>\n",
       "      <th>Precision</th>\n",
       "      <th>Recall</th>\n",
       "      <th>F1</th>\n",
       "    </tr>\n",
       "  </thead>\n",
       "  <tbody>\n",
       "    <tr>\n",
       "      <td>1</td>\n",
       "      <td>No log</td>\n",
       "      <td>0.277331</td>\n",
       "      <td>0.885000</td>\n",
       "      <td>0.976744</td>\n",
       "      <td>0.863014</td>\n",
       "      <td>0.916364</td>\n",
       "    </tr>\n",
       "    <tr>\n",
       "      <td>2</td>\n",
       "      <td>No log</td>\n",
       "      <td>0.240162</td>\n",
       "      <td>0.905000</td>\n",
       "      <td>0.950355</td>\n",
       "      <td>0.917808</td>\n",
       "      <td>0.933798</td>\n",
       "    </tr>\n",
       "    <tr>\n",
       "      <td>3</td>\n",
       "      <td>No log</td>\n",
       "      <td>0.263950</td>\n",
       "      <td>0.910000</td>\n",
       "      <td>0.921053</td>\n",
       "      <td>0.958904</td>\n",
       "      <td>0.939597</td>\n",
       "    </tr>\n",
       "    <tr>\n",
       "      <td>4</td>\n",
       "      <td>No log</td>\n",
       "      <td>0.257687</td>\n",
       "      <td>0.915000</td>\n",
       "      <td>0.944828</td>\n",
       "      <td>0.938356</td>\n",
       "      <td>0.941581</td>\n",
       "    </tr>\n",
       "  </tbody>\n",
       "</table><p>"
      ],
      "text/plain": [
       "<IPython.core.display.HTML object>"
      ]
     },
     "metadata": {},
     "output_type": "display_data"
    },
    {
     "data": {
      "text/html": [
       "\n",
       "    <div>\n",
       "      \n",
       "      <progress value='7' max='7' style='width:300px; height:20px; vertical-align: middle;'></progress>\n",
       "      [7/7 00:01]\n",
       "    </div>\n",
       "    "
      ],
      "text/plain": [
       "<IPython.core.display.HTML object>"
      ]
     },
     "metadata": {},
     "output_type": "display_data"
    },
    {
     "name": "stdout",
     "output_type": "stream",
     "text": [
      "Evaluation results: {'eval_loss': 0.25768688321113586, 'eval_accuracy': 0.915, 'eval_precision': 0.9448275862068966, 'eval_recall': 0.9383561643835616, 'eval_f1': 0.9415807560137457, 'eval_runtime': 1.8984, 'eval_samples_per_second': 105.349, 'eval_steps_per_second': 3.687, 'epoch': 4.0}\n",
      "Complete!!!!\n"
     ]
    }
   ],
   "source": [
    "trainer.train()\n",
    "eval_results = trainer.evaluate()\n",
    "\n",
    "print(\"Evaluation results:\", eval_results)\n",
    "\n",
    "trainer.save_model(\"./models/hospital-sentiment-model\")\n",
    "tokenizer.save_pretrained(\"./tokenizers/hospital-sentiment-model\")\n",
    "\n",
    "print(\"Complete!!!!\")"
   ]
  }
 ],
 "metadata": {
  "kernelspec": {
   "display_name": "ai-env",
   "language": "python",
   "name": "ai-env"
  },
  "language_info": {
   "codemirror_mode": {
    "name": "ipython",
    "version": 3
   },
   "file_extension": ".py",
   "mimetype": "text/x-python",
   "name": "python",
   "nbconvert_exporter": "python",
   "pygments_lexer": "ipython3",
   "version": "3.11.5"
  }
 },
 "nbformat": 4,
 "nbformat_minor": 5
}
